{
 "cells": [
  {
   "cell_type": "code",
   "execution_count": null,
   "metadata": {},
   "outputs": [],
   "source": [
    "from tensorflow.keras.models import Sequential\n",
    "from tensorflow.keras.layers import Dense\n",
    "from tensorflow.keras.layers import Convolution2D \n",
    "from tensorflow.keras.layers import MaxPooling2D \n",
    "from tensorflow.keras.layers import Flatten\n"
   ]
  },
  {
   "cell_type": "code",
   "execution_count": null,
   "metadata": {},
   "outputs": [],
   "source": [
    "from keras.preprocessing.image import ImageDataGenerator\n",
    "train_datagen = ImageDataGenerator(rescale = 1./255,shear_range =0.2,zoom_range=0.2,horizontal_flip= True)\n",
    "test_datagen = ImageDataGenerator(rescale = 1./255)"
   ]
  },
  {
   "cell_type": "code",
   "execution_count": 3,
   "metadata": {},
   "outputs": [
    {
     "name": "stdout",
     "output_type": "stream",
     "text": [
      "Found 415 images belonging to 4 classes.\n",
      "Found 328 images belonging to 4 classes.\n"
     ]
    }
   ],
   "source": [
    "x_train = train_datagen.flow_from_directory(r\"E:\\faranishath\\user im2\\train set\",target_size=(64,64),batch_size = 32,class_mode =\"categorical\")\n",
    "x_test = test_datagen.flow_from_directory(r\"E:\\faranishath\\user im2\\test set\",target_size=(64,64),batch_size = 32,class_mode =\"categorical\")"
   ]
  },
  {
   "cell_type": "code",
   "execution_count": 4,
   "metadata": {},
   "outputs": [],
   "source": [
    "model = Sequential()"
   ]
  },
  {
   "cell_type": "code",
   "execution_count": 5,
   "metadata": {},
   "outputs": [],
   "source": [
    "model.add(Convolution2D(32,(3,3) ,input_shape = (64,64,3),activation = \"relu\"))"
   ]
  },
  {
   "cell_type": "code",
   "execution_count": 6,
   "metadata": {},
   "outputs": [],
   "source": [
    "model.add(MaxPooling2D(2,2))"
   ]
  },
  {
   "cell_type": "code",
   "execution_count": 7,
   "metadata": {},
   "outputs": [],
   "source": [
    "model.add(Flatten())"
   ]
  },
  {
   "cell_type": "code",
   "execution_count": 8,
   "metadata": {},
   "outputs": [],
   "source": [
    "model.add(Dense(units = 512,activation = \"relu\",kernel_initializer = \"random_uniform\"))"
   ]
  },
  {
   "cell_type": "code",
   "execution_count": 9,
   "metadata": {},
   "outputs": [],
   "source": [
    "model.add(Dense(units = 4,activation = \"softmax\",kernel_initializer = \"random_uniform\"))"
   ]
  },
  {
   "cell_type": "code",
   "execution_count": 10,
   "metadata": {},
   "outputs": [],
   "source": [
    "model.compile(\"sgd\",loss = \"categorical_crossentropy\",metrics = [\"accuracy\"])"
   ]
  },
  {
   "cell_type": "code",
   "execution_count": null,
   "metadata": {},
   "outputs": [
    {
     "name": "stderr",
     "output_type": "stream",
     "text": [
      "C:\\Users\\mypc\\Anaconda3\\lib\\site-packages\\tensorflow\\python\\keras\\engine\\training.py:1844: UserWarning: `Model.fit_generator` is deprecated and will be removed in a future version. Please use `Model.fit`, which supports generators.\n",
      "  warnings.warn('`Model.fit_generator` is deprecated and '\n"
     ]
    },
    {
     "name": "stdout",
     "output_type": "stream",
     "text": [
      "Epoch 1/30\n",
      "13/13 [==============================] - 23s 2s/step - loss: 1.4257 - accuracy: 0.2599 - val_loss: 1.3549 - val_accuracy: 0.2652\n",
      "Epoch 2/30\n",
      "13/13 [==============================] - 17s 1s/step - loss: 1.3582 - accuracy: 0.2983 - val_loss: 1.3341 - val_accuracy: 0.3476\n",
      "Epoch 3/30\n",
      "13/13 [==============================] - 17s 1s/step - loss: 1.3037 - accuracy: 0.4146 - val_loss: 1.1792 - val_accuracy: 0.5915\n",
      "Epoch 4/30\n",
      "13/13 [==============================] - 17s 1s/step - loss: 1.1947 - accuracy: 0.5313 - val_loss: 1.1104 - val_accuracy: 0.5305\n",
      "Epoch 5/30\n",
      "13/13 [==============================] - 17s 1s/step - loss: 1.0997 - accuracy: 0.5868 - val_loss: 1.2046 - val_accuracy: 0.4543\n",
      "Epoch 6/30\n",
      "13/13 [==============================] - 17s 1s/step - loss: 1.1569 - accuracy: 0.5603 - val_loss: 1.0665 - val_accuracy: 0.4451\n",
      "Epoch 7/30\n",
      "13/13 [==============================] - 17s 1s/step - loss: 1.0997 - accuracy: 0.5185 - val_loss: 0.9351 - val_accuracy: 0.6311\n",
      "Epoch 8/30\n",
      "13/13 [==============================] - 21s 2s/step - loss: 1.0146 - accuracy: 0.5950 - val_loss: 0.9092 - val_accuracy: 0.6128\n",
      "Epoch 9/30\n",
      "13/13 [==============================] - 16s 1s/step - loss: 0.9362 - accuracy: 0.6351 - val_loss: 0.8937 - val_accuracy: 0.6341\n",
      "Epoch 10/30\n",
      "13/13 [==============================] - 17s 1s/step - loss: 0.9679 - accuracy: 0.5979 - val_loss: 0.8534 - val_accuracy: 0.6463\n",
      "Epoch 11/30\n",
      "13/13 [==============================] - 17s 1s/step - loss: 0.9345 - accuracy: 0.6167 - val_loss: 0.7490 - val_accuracy: 0.7500\n",
      "Epoch 12/30\n",
      "13/13 [==============================] - 16s 1s/step - loss: 0.8640 - accuracy: 0.6688 - val_loss: 0.7415 - val_accuracy: 0.7591\n",
      "Epoch 13/30\n",
      "13/13 [==============================] - 16s 1s/step - loss: 0.8199 - accuracy: 0.7067 - val_loss: 1.0141 - val_accuracy: 0.6220\n",
      "Epoch 14/30\n",
      "13/13 [==============================] - 16s 1s/step - loss: 0.9527 - accuracy: 0.6197 - val_loss: 0.7468 - val_accuracy: 0.7165\n",
      "Epoch 15/30\n",
      "13/13 [==============================] - 16s 1s/step - loss: 0.8666 - accuracy: 0.6691 - val_loss: 0.6852 - val_accuracy: 0.7713\n",
      "Epoch 16/30\n",
      "13/13 [==============================] - 16s 1s/step - loss: 0.8248 - accuracy: 0.6575 - val_loss: 0.6659 - val_accuracy: 0.7591\n",
      "Epoch 17/30\n",
      "13/13 [==============================] - 16s 1s/step - loss: 0.8465 - accuracy: 0.6580 - val_loss: 0.6821 - val_accuracy: 0.7500\n",
      "Epoch 18/30\n",
      "13/13 [==============================] - 17s 1s/step - loss: 0.7908 - accuracy: 0.6873 - val_loss: 0.6442 - val_accuracy: 0.7835\n",
      "Epoch 19/30\n",
      "13/13 [==============================] - 16s 1s/step - loss: 0.8746 - accuracy: 0.6566 - val_loss: 0.6214 - val_accuracy: 0.8079\n",
      "Epoch 20/30\n",
      "13/13 [==============================] - ETA: 0s - loss: 0.8097 - accuracy: 0.6814"
     ]
    }
   ],
   "source": [
    "model.fit_generator(x_train ,steps_per_epoch = 13 ,epochs = 30,validation_data= x_test , validation_steps = 11)"
   ]
  },
  {
   "cell_type": "code",
   "execution_count": 24,
   "metadata": {},
   "outputs": [],
   "source": [
    "model.save(\"human face.h5\")"
   ]
  },
  {
   "cell_type": "code",
   "execution_count": 25,
   "metadata": {},
   "outputs": [
    {
     "data": {
      "text/plain": [
       "'E:\\\\Python externship'"
      ]
     },
     "execution_count": 25,
     "metadata": {},
     "output_type": "execute_result"
    }
   ],
   "source": [
    "pwd"
   ]
  },
  {
   "cell_type": "code",
   "execution_count": null,
   "metadata": {},
   "outputs": [],
   "source": []
  }
 ],
 "metadata": {
  "kernelspec": {
   "display_name": "Python 3",
   "language": "python",
   "name": "python3"
  },
  "language_info": {
   "codemirror_mode": {
    "name": "ipython",
    "version": 3
   },
   "file_extension": ".py",
   "mimetype": "text/x-python",
   "name": "python",
   "nbconvert_exporter": "python",
   "pygments_lexer": "ipython3",
   "version": "3.7.3"
  }
 },
 "nbformat": 4,
 "nbformat_minor": 2
}
